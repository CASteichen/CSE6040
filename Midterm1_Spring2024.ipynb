{
 "cells": [
  {
   "cell_type": "markdown",
   "metadata": {
    "deletable": false,
    "editable": false,
    "nbgrader": {
     "grade": false,
     "locked": true,
     "solution": false
    },
    "tags": [
     "notebook_header"
    ]
   },
   "source": [
    "# `Midterm 1`, `Spring 2024`: `Ranking Poker Hands`\n",
    "_Version 1.0.1_  \n",
    "\n",
    "\n",
    "History: \n",
    "- 1.0.1: Fix typo.\n",
    "- 1.0.0: Initial release.\n",
    "\n",
    "*All of the header information is important. Please read it..*\n",
    "\n",
    "**Topics, number of exercises:** This problem builds on your knowledge of `conditional logic, implementing math as code, and Python's representation of numbers`. It has **8** exercises, numbered 0 to **7**. There are **15** available points. However, to earn 100% the threshold is **10** points. (Therefore, once you hit **10** points, you can stop. There is no extra credit for exceeding this threshold.)\n",
    "\n",
    "**Exercise ordering:** Each exercise builds logically on previous exercises, but you may solve them in any order. That is, if you can't solve an exercise, you can still move on and try the next one. Use this to your advantage, as the exercises are **not** necessarily ordered in terms of difficulty. Higher point values indicate more complicated exercises which may be more time consuming to solve. \n",
    "\n",
    "**Demo cells:** Code cells starting with the comment `### define demo inputs` load results from prior exercises applied to the entire data set and use those to build demo inputs. These must be run for subsequent demos to work properly, but they do not affect the test cells. The data loaded in these cells may be rather large (at least in terms of human readability). You are free to print or otherwise use Python to explore them, but we did not print them in the starter code.\n",
    "\n",
    "**Debugging you code:** Right before each exercise test cell, there is a block of text explaining the variables available to you for debugging. You may use these to test your code and can print/display them as needed (careful when printing large objects, you may want to print the head or chunks of rows at a time).\n",
    "\n",
    "**Exercise point breakdown:**\n",
    "\n",
    "- Exercise 0: **1** point(s)\n",
    "- Exercise 1: **1** point(s)\n",
    "- Exercise 2: **2** point(s)\n",
    "- Exercise 3: **1** point(s)\n",
    "- Exercise 4: **3** point(s)\n",
    "- Exercise 5: **3** point(s)\n",
    "- Exercise 6: **2** point(s)\n",
    "- Exercise 7: **2** point(s)\n",
    "\n",
    "**Final reminders:** \n",
    "\n",
    "- Submit after **every exercise**\n",
    "- Review the generated grade report after you submit to see what errors were returned\n",
    "- Stay calm, skip problems as needed, and take short breaks at your leisure\n",
    "\n",
    "\n",
    "## Topic Introduction\n",
    "\n",
    "The goal of this notebook is to write a computer program which can determine the relative strength of poker hands. Inspiration was drawn from this [blog](https://www.mrkwatkins.co.uk/tag/poker/) where the author walks through building a similar program in the C programming language."
   ]
  },
  {
   "cell_type": "code",
   "execution_count": 8,
   "metadata": {
    "collapsed": true,
    "deletable": false,
    "editable": false,
    "nbgrader": {
     "grade": false,
     "locked": true,
     "solution": false
    },
    "tags": [
     "global_imports"
    ]
   },
   "outputs": [],
   "source": [
    "### Global Imports\n",
    "###\n",
    "### AUTOGRADER TEST - DO NOT REMOVE\n",
    "###\n",
    "from poker_game import \\\n",
    "    poker_info, \\\n",
    "    cards_info, \\\n",
    "    pprint_cards, \\\n",
    "    ranks_info, \\\n",
    "    pprint_ranks\n",
    "    \n",
    "from pprint import pprint"
   ]
  },
  {
   "cell_type": "markdown",
   "metadata": {
    "deletable": false,
    "editable": false,
    "nbgrader": {
     "grade": false,
     "locked": true,
     "solution": false
    },
    "tags": [
     "exercise_text"
    ]
   },
   "source": [
    "# Exercise 0 - (**1** Points): \n",
    "The first exercise is to read this background information on poker, the data structures we will use, and some utilities we have built to make understanding the data simpler.\n",
    "\n",
    "## Representing cards \n",
    "\n",
    "Playing cards are traditionally pieces of cardstock material which are marked with a rank and a suit. A deck of cards contains all possible combinations of ranks and suits. There are 13 ranks and 4 suits for a total of 52 cards. The image below shows the suits as rows and the ranks as columns.   \n",
    "\n",
    "![resource/asnlib/publicdata/cards.png](./resource/asnlib/publicdata/cards.png)\n",
    "\n",
    "Since we can't hand out pyhsical cards we're going to have to come up with some way of representing collections of cards (i.e. subsets of a deck) in Python. This notebook relies on two in particular:\n",
    "\n",
    "- **String representation**: This is a human-readable representation, but it is not very handy for calculation. Each card in a collection is a two-character sequence identifying its rank and suit. The collection is space-delimited. For example: 'TH AH QS 9D JD'\n",
    "    - suit: single character in 'HSCD' \n",
    "    - rank: single character in 'AKQJT98765432'\n",
    "- **Integer representation**: This representation is much less human-readable, but it is very efficient for calculation. The idea here is we create a mapping of the 52 cards to 52 bit-positions. Each bit is 1 if the mapped card is present in the collection and 0 otherwise. \n",
    "    - example: \n",
    "        - 351843729281280 - This is the integer version of 'TH AH QS 9D JD'\n",
    "        - `bin(351843729281280) -> '0b1010000000000000000000000100000000001000100000000'`\n",
    "    - For mapping bit positions to suit/rank combinations we use the convention of breaking the 52-bit representation into four groups of 13. \n",
    "        - Each _group_ is assigned a suit. \n",
    "        - From right to left in each group the bits are assigned to ranks in ascending order of strength. \n",
    "            - (i.e. the right-most bit is a '2' and the left-most bit is an 'A').\n",
    "    - **To provide more visibility into this representation we have provided some functions:**\n",
    "        - `pprint_cards(cards)` prints the binary representation of `cards` annotated with the suit and rank mapped to each bit position:  \n",
    "            ```    \n",
    "            pprint_cards(351843729281280) prints:\n",
    "            SUIT: DDDDDDDDDDDDD CCCCCCCCCCCCC SSSSSSSSSSSSS HHHHHHHHHHHHH\n",
    "            RANK: AKQJT98765432 AKQJT98765432 AKQJT98765432 AKQJT98765432\n",
    "            BITS: 0001010000000 0000000000000 0010000000000 1000100000000\n",
    "            ```\n",
    "        - `cards_info(cards)` returns a dictionary with some summary information about `cards`  \n",
    "        ```\n",
    "            cards_info(351843729281280) -> \n",
    "            {'binary_representation': '0b0001010000000000000000000000100000000001000100000000',\n",
    "             'int_value': 351843729281280,\n",
    "             'string_representation': 'TH AH QS 9D JD',\n",
    "             'suit_groups': {'C': 0, 'D': 640, 'H': 4352, 'S': 1024}}\n",
    "        ```\n",
    "    - The `suit_groups` values in the `cards_info` output are the integer representation of the subset of ranks which make up the suit groups (13-bit sequence sharing the same suit). In general we can represent any subset of the possible ranks with a 13-bit integer. **We have provided functions for visibility into these representations as well.**\n",
    "        - `pprint_ranks(ranks)` prints the binary representation of `ranks` annotated with the rank mapped to each bit position.  \n",
    "        ```\n",
    "            pprint_ranks(640) prints:\n",
    "            RANK: AKQJT98765432 \n",
    "            BITS: 0001010000000\n",
    "        ```\n",
    "        - `ranks_info(ranks)` returns a dictionary with some summary information about `ranks`.\n",
    "        ```\n",
    "            ranks_info(640) ->\n",
    "            {'int_value': 640, 'binary_representation': '0b0001010000000', 'string_representation': '9 J'}\n",
    "        ```\n",
    "    \n",
    "**You can view the source code in the `poker_game` module** (<a href=\"./poker_game/__init__.py\" target=\"_blank\">download file</a>)"
   ]
  },
  {
   "cell_type": "markdown",
   "metadata": {
    "deletable": false,
    "editable": false,
    "nbgrader": {
     "grade": false,
     "locked": true,
     "solution": false
    }
   },
   "source": [
    "## Ranking hands\n",
    "A poker hand is a collection of 5 cards. A hand has three attributes which determine its strength relative\n",
    "to other hands:\n",
    "- hand type: category assigned to the hand based on criteria related to the ranks and suits in it. Types\n",
    "which are less likely to occur are considered stronger.\n",
    "- primary ranks: the ranks in the \"made\" part of the hand \n",
    "    - i.e. for \"three-of-a-kind\" the primary rank is the rank which appears 3 times in the hand\n",
    "- secondary ranks: the ranks which are not in the \"made\" part of the hand\n",
    "    - i.e. for \"three-of-a-kind\" the secondary ranks are the two ranks which appear once in the hand.\n",
    "    - there may be no secondary ranks - which would be a blank string or 0 depending on the representation.\n",
    "\n",
    "Additionally we have created a dictionary containing useful constants called `poker_info`. **You can view the exact contents and structure in poker_info.py** (<a href=\"./poker_game/poker_info.py\" target=\"_blank\">download file</a>). Here's a high-level description\n",
    "of the contents:\n",
    "- RANKS: dictionary mapping the string representation of each rank to its bit position in the 13-bit integer\n",
    "representation. \n",
    "    - The values are also the relative strengths of the ranks. Higher number means higher strength.\n",
    "- SUITS: dictionary mapping the string representation of each suit to an attributes dictionary.\n",
    "    - Each attributes dictionary contains the index, symbol, start/end position and the bit-mask for the bit\n",
    "    positions associated with the suit in the 52-bit representation of cards.\n",
    "- CARDS: dictionary mapping the string representation of each card to the 52-bit integer representation of the\n",
    "card. \n",
    "- HAND_TYPES: dictionary mapping the types of poker hands to the relative strength of the type.\n",
    "- FIVE_HIGH: 13-bit integer representation of the ranks present in a special case which is an exception to \n",
    "the normal rules for determining the type of a poker hand."
   ]
  },
  {
   "cell_type": "code",
   "execution_count": 9,
   "metadata": {
    "deletable": false,
    "editable": false,
    "nbgrader": {
     "grade": true,
     "grade_id": "ex0",
     "locked": true,
     "points": "1",
     "solution": false
    },
    "tags": []
   },
   "outputs": [
    {
     "name": "stdout",
     "output_type": "stream",
     "text": [
      "Passed! Please submit.\n"
     ]
    }
   ],
   "source": [
    "### test_cell_ex0\n",
    "###\n",
    "### AUTOGRADER TEST - DO NOT REMOVE\n",
    "###\n",
    "\n",
    "print('Passed! Please submit.')"
   ]
  },
  {
   "cell_type": "markdown",
   "metadata": {
    "deletable": false,
    "editable": false,
    "nbgrader": {
     "grade": false,
     "locked": true,
     "solution": false
    },
    "tags": [
     "exercise_text"
    ]
   },
   "source": [
    "## Exercise 1 - (**1** Points): \n",
    "For the first few exercises we will make some more utilities that will be useful in completing the later\n",
    "exercises.\n",
    "\n",
    "We have functionality to go from the integer representation to the string representation of a collection of\n",
    "cards. To close the loop on user interaction we must create a utility to convert the string representation of\n",
    "cards to the 52-bit integer representation.\n",
    "\n",
    "Define `hand_from_str(s: str)->int:` as follows:\n",
    "- Input:\n",
    "    - `s`: string representation of a collection of cards as described above. The processing of `s` is\n",
    "    not case sensitive, so inputs can be upper or lower case.\n",
    "- Behavior:\n",
    "    - Split `s` by whitespace and convert to uppercase\n",
    "    - Use the mapping in `poker_info` to determine the integer representation of each card\n",
    "- Output:\n",
    "    - The sum of the integer representations of all the cards in the collection according to `s`\n",
    "    \n",
    "**Recall from the introductory material** that the dictionary `poker_info` has a lot of useful constants and that the functions `cards_info`, `pprint_cards`, `ranks_info` and `pprint_ranks` can be used to get more information about the integer representations of collections of cards or ranks."
   ]
  },
  {
   "cell_type": "code",
   "execution_count": 3,
   "metadata": {
    "collapsed": true,
    "deletable": false,
    "editable": false,
    "nbgrader": {
     "grade": false,
     "locked": true,
     "solution": false
    },
    "tags": [
     "demo_data"
    ]
   },
   "outputs": [],
   "source": [
    "### Define demo inputs\n",
    "\n",
    "demo_s_ex_0 = 'ah TH jd qs 9D'"
   ]
  },
  {
   "cell_type": "markdown",
   "metadata": {
    "deletable": false,
    "editable": false,
    "nbgrader": {
     "grade": false,
     "locked": true,
     "solution": false
    },
    "tags": [
     "demo_output_md"
    ]
   },
   "source": [
    "<!-- Expected demo output text block -->\n",
    "The demo included in the solution cell below should display the following output:\n",
    "```\n",
    "integer returned:\n",
    "351843729281280\n",
    "\n",
    "pretty printed:\n",
    "SUIT: DDDDDDDDDDDDD CCCCCCCCCCCCC SSSSSSSSSSSSS HHHHHHHHHHHHH\n",
    "RANK: AKQJT98765432 AKQJT98765432 AKQJT98765432 AKQJT98765432\n",
    "BITS: 0001010000000 0000000000000 0010000000000 1000100000000\n",
    "```\n",
    "<!-- Include any shout outs here -->"
   ]
  },
  {
   "cell_type": "code",
   "execution_count": null,
   "metadata": {
    "collapsed": true
   },
   "outputs": [],
   "source": [
    "#Gameplan:\n",
    "#1. convert string to all caps to match dictionary\n",
    "#2. convert string to set\n",
    "#3. match set to provided dictionary to get integers\n",
    "#4. sum the integers"
   ]
  },
  {
   "cell_type": "code",
   "execution_count": 31,
   "metadata": {
    "tags": [
     "exercise_solution"
    ]
   },
   "outputs": [
    {
     "name": "stdout",
     "output_type": "stream",
     "text": [
      "integer returned:\n",
      "351843729281280\n",
      "\n",
      "pretty printed:\n",
      "SUIT: DDDDDDDDDDDDD CCCCCCCCCCCCC SSSSSSSSSSSSS HHHHHHHHHHHHH\n",
      "RANK: AKQJT98765432 AKQJT98765432 AKQJT98765432 AKQJT98765432\n",
      "BITS: 0001010000000 0000000000000 0010000000000 1000100000000\n"
     ]
    }
   ],
   "source": [
    "### Exercise 1 solution\n",
    "def hand_from_str(s: str) -> int:\n",
    "    ###\n",
    "    ### YOUR CODE HERE\n",
    "    ###\n",
    "    s_upper=s.upper()\n",
    "    s_upper=s_upper.split()\n",
    "    s=set(s_upper)\n",
    "    card_info=dict(poker_info['CARDS'])\n",
    "    sum_dict = {}\n",
    "    vals = []\n",
    "    for i in s:\n",
    "        if i in card_info.keys():\n",
    "            vals.append(card_info[i])\n",
    "        else:\n",
    "            vals.append(0)\n",
    "    import statistics\n",
    "    sum_dict=sum(vals)\n",
    "    return sum_dict\n",
    "### demo function call\n",
    "# call the function defined above using the demo inputs.\n",
    "print('integer returned:')\n",
    "print(hand_from_str(demo_s_ex_0))\n",
    "print()\n",
    "print('pretty printed:')\n",
    "pprint_cards(hand_from_str(demo_s_ex_0))"
   ]
  },
  {
   "cell_type": "markdown",
   "metadata": {
    "deletable": false,
    "editable": false,
    "nbgrader": {
     "grade": false,
     "locked": true,
     "solution": false
    },
    "tags": [
     "test_data_boilerplate"
    ]
   },
   "source": [
    "<!-- Test Cell Boilerplate -->\n",
    "The cell below will test your solution for Exercise 1. The testing variables will be available for debugging under the following names in a dictionary format.\n",
    "- `input_vars` - Input variables for your solution. \n",
    "- `original_input_vars` - Copy of input variables from prior to running your solution. These _should_ be the same as `input_vars` - otherwise the inputs were modified by your solution.\n",
    "- `returned_output_vars` - Outputs returned by your solution.\n",
    "- `true_output_vars` - The expected output. This _should_ \"match\" `returned_output_vars` based on the question requirements - otherwise, your solution is not returning the correct output. "
   ]
  },
  {
   "cell_type": "code",
   "execution_count": 32,
   "metadata": {
    "deletable": false,
    "editable": false,
    "nbgrader": {
     "grade": true,
     "grade_id": "ex1",
     "locked": true,
     "points": "1",
     "solution": false
    },
    "tags": []
   },
   "outputs": [
    {
     "name": "stdout",
     "output_type": "stream",
     "text": [
      "Passed! Please submit.\n"
     ]
    }
   ],
   "source": [
    "### test_cell_ex1\n",
    "###\n",
    "### AUTOGRADER TEST - DO NOT REMOVE\n",
    "###\n",
    "from tester_fw.testers import Tester\n",
    "\n",
    "conf = {\n",
    "    'case_file':'tc_1', \n",
    "    'func': hand_from_str, # replace this with the function defined above\n",
    "    'inputs':{ # input config dict. keys are parameter names\n",
    "        's':{\n",
    "            'dtype':'str', # data type of param.\n",
    "            'check_modified':False,\n",
    "        }\n",
    "    },\n",
    "    'outputs':{\n",
    "        'output_0':{\n",
    "            'index':0,\n",
    "            'dtype':'int',\n",
    "            'check_dtype': True,\n",
    "            'check_col_dtypes': True, # Ignored if dtype is not df\n",
    "            'check_col_order': True, # Ignored if dtype is not df\n",
    "            'check_row_order': True, # Ignored if dtype is not df\n",
    "            'check_column_type': True, # Ignored if dtype is not df\n",
    "            'float_tolerance': 10 ** (-6)\n",
    "        }\n",
    "    }\n",
    "}\n",
    "tester = Tester(conf, key=b'kvX8VF1YUgURm8NySX8Cx_UW0ZHCC6WCFqotGOpgvQc=', path='resource/asnlib/publicdata/')\n",
    "for _ in range(70):\n",
    "    try:\n",
    "        tester.run_test()\n",
    "        (input_vars, original_input_vars, returned_output_vars, true_output_vars) = tester.get_test_vars()\n",
    "    except:\n",
    "        (input_vars, original_input_vars, returned_output_vars, true_output_vars) = tester.get_test_vars()\n",
    "        raise\n",
    "\n",
    "###\n",
    "### AUTOGRADER TEST - DO NOT REMOVE\n",
    "###\n",
    "print('Passed! Please submit.')"
   ]
  },
  {
   "cell_type": "markdown",
   "metadata": {
    "deletable": false,
    "editable": false,
    "nbgrader": {
     "grade": false,
     "locked": true,
     "solution": false
    },
    "tags": [
     "exercise_text"
    ]
   },
   "source": [
    "## Exercise 2 - (**2** Points): \n",
    "We have a few mappings from the string to integer representations, but having the reverse mappings will also be\n",
    "useful. We want to make sure that the reverse mappings are valid \n",
    "- a reverse mapping is valid if it has the same number of keys as the original mapping. \n",
    "- If that's not the case then there are duplicate values in the original and Python re-assigned one of \n",
    "them. It's not deterministic which original key gets over-written. \n",
    "\n",
    "Define `reverse_dict(d: dict) -> dict` as follows:\n",
    "\n",
    "- Input:\n",
    "    - `d`: a Python dictionary\n",
    "- Behavior:\n",
    "    - build a new dictionary `d_rev` that swaps the key/value pairs.\n",
    "        - `d[d_rev[v]]` is equal to `v` for any `v` which is a value in `d`\n",
    "        - `d_rev[d[k]]` is equal to `k` for any `k` which is a key in `d`\n",
    "    - if there are duplicate values in `d` raise a `ValueError`\n",
    "- Output:\n",
    "    - `d_rev` as described above"
   ]
  },
  {
   "cell_type": "code",
   "execution_count": 33,
   "metadata": {
    "collapsed": true,
    "deletable": false,
    "editable": false,
    "nbgrader": {
     "grade": false,
     "locked": true,
     "solution": false
    },
    "tags": [
     "demo_data"
    ]
   },
   "outputs": [],
   "source": [
    "### Define demo inputs\n",
    "\n",
    "demo_d_ex2 = {'x': 1, 'y': 2, 'kangaroo': 'llama'}\n",
    "demo_d_invalid_ex2 = {'x': 1, 'y': 2, 'kangaroo': 2}"
   ]
  },
  {
   "cell_type": "markdown",
   "metadata": {
    "deletable": false,
    "editable": false,
    "nbgrader": {
     "grade": false,
     "locked": true,
     "solution": false
    },
    "tags": [
     "demo_output_md"
    ]
   },
   "source": [
    "<!-- Expected demo output text block -->\n",
    "The demo included in the solution cell below should display the following output:\n",
    "```\n",
    "reversed {'x': 1, 'y': 2, 'kangaroo': 'llama'} into {1: 'x', 2: 'y', 'llama': 'kangaroo'}\n",
    "A ValueError was raised. Are there duplicate values in {'x': 1, 'y': 2, 'kangaroo': 2}?\n",
    "```\n",
    "<!-- Include any shout outs here -->"
   ]
  },
  {
   "cell_type": "code",
   "execution_count": 41,
   "metadata": {
    "tags": [
     "exercise_solution"
    ]
   },
   "outputs": [
    {
     "name": "stdout",
     "output_type": "stream",
     "text": [
      "Successfully reversed {'x': 1, 'y': 2, 'kangaroo': 'llama'} into {1: 'x', 2: 'y', 'llama': 'kangaroo'}\n",
      "A ValueError was raised. Are there duplicate values in {'x': 1, 'y': 2, 'kangaroo': 2}?\n"
     ]
    }
   ],
   "source": [
    "### Exercise 2 solution\n",
    "from collections import defaultdict\n",
    "def reverse_dict(d: dict) -> dict:\n",
    "    ###\n",
    "    ### YOUR CODE HERE\n",
    "    ###\n",
    "    inv_map = {v: k for k, v in d.items()}\n",
    "    if len(inv_map) != len(d):\n",
    "        raise ValueError\n",
    "    else:\n",
    "        return inv_map\n",
    "# demo\n",
    "for d in [demo_d_ex2, demo_d_invalid_ex2]:\n",
    "    try:\n",
    "        d_rev = reverse_dict(d)\n",
    "        print(f'Successfully reversed {d} into {d_rev}')\n",
    "    except ValueError:\n",
    "        print(f'A ValueError was raised. Are there duplicate values in {d}?')"
   ]
  },
  {
   "cell_type": "markdown",
   "metadata": {
    "deletable": false,
    "editable": false,
    "nbgrader": {
     "grade": false,
     "locked": true,
     "solution": false
    },
    "tags": [
     "test_data_boilerplate"
    ]
   },
   "source": [
    "<!-- Test Cell Boilerplate -->\n",
    "**Since part of the requirements are for your function to raise an error we will wrap your function with a decorator for testing. The decorated function will give the output of your function and an indicator of whether the error was raised. For example, `(1234, False)` means the output is `1234` and no ValueError was raised. `(None, True)` means that an error was raised and no output was returned.**\n",
    "\n",
    "The cell below will test your solution for Exercise 2. The testing variables will be available for debugging under the following names in a dictionary format.\n",
    "- `input_vars` - Input variables for your solution. \n",
    "- `original_input_vars` - Copy of input variables from prior to running your solution. These _should_ be the same as `input_vars` - otherwise the inputs were modified by your solution.\n",
    "- `returned_output_vars` - Outputs returned by your solution.\n",
    "- `true_output_vars` - The expected output. This _should_ \"match\" `returned_output_vars` based on the question requirements - otherwise, your solution is not returning the correct output. "
   ]
  },
  {
   "cell_type": "code",
   "execution_count": 42,
   "metadata": {
    "deletable": false,
    "editable": false,
    "nbgrader": {
     "grade": true,
     "grade_id": "ex2",
     "locked": true,
     "points": "2",
     "solution": false
    },
    "tags": []
   },
   "outputs": [
    {
     "name": "stdout",
     "output_type": "stream",
     "text": [
      "Passed! Please submit.\n"
     ]
    }
   ],
   "source": [
    "### test_cell_ex2\n",
    "###\n",
    "### AUTOGRADER TEST - DO NOT REMOVE\n",
    "###\n",
    "from tester_fw.testers import Tester\n",
    "\n",
    "def ex2_wrapper(d):\n",
    "    val = None\n",
    "    err = False\n",
    "    try:\n",
    "        val = reverse_dict(d)\n",
    "    except ValueError:\n",
    "        err = True\n",
    "    return (val, err)\n",
    "    \n",
    "\n",
    "conf = {\n",
    "    'case_file':'tc_2', \n",
    "    'func': ex2_wrapper, # replace this with the function defined above\n",
    "    'inputs':{ # input config dict. keys are parameter names\n",
    "        'd':{\n",
    "            'dtype':'dict', # data type of param.\n",
    "            'check_modified':True,\n",
    "        }\n",
    "    },\n",
    "    'outputs':{\n",
    "        'output_0':{\n",
    "            'index':0,\n",
    "            'dtype':'',\n",
    "            'check_dtype': False,\n",
    "            'check_col_dtypes': False, # Ignored if dtype is not df\n",
    "            'check_col_order': True, # Ignored if dtype is not df\n",
    "            'check_row_order': True, # Ignored if dtype is not df\n",
    "            'check_column_type': True, # Ignored if dtype is not df\n",
    "            'float_tolerance': 0\n",
    "        },\n",
    "        'output_1':{\n",
    "            'index':1,\n",
    "            'dtype':'bool',\n",
    "            'check_dtype': True,\n",
    "            'check_col_dtypes': True, # Ignored if dtype is not df\n",
    "            'check_col_order': True, # Ignored if dtype is not df\n",
    "            'check_row_order': True, # Ignored if dtype is not df\n",
    "            'check_column_type': True, # Ignored if dtype is not df\n",
    "            'float_tolerance': 0\n",
    "        }\n",
    "    }\n",
    "}\n",
    "tester = Tester(conf, key=b'kvX8VF1YUgURm8NySX8Cx_UW0ZHCC6WCFqotGOpgvQc=', path='resource/asnlib/publicdata/')\n",
    "for _ in range(70):\n",
    "    try:\n",
    "        tester.run_test()\n",
    "        (input_vars, original_input_vars, returned_output_vars, true_output_vars) = tester.get_test_vars()\n",
    "    except:\n",
    "        (input_vars, original_input_vars, returned_output_vars, true_output_vars) = tester.get_test_vars()\n",
    "        raise\n",
    "\n",
    "###\n",
    "### AUTOGRADER TEST - DO NOT REMOVE\n",
    "###\n",
    "print('Passed! Please submit.')"
   ]
  },
  {
   "cell_type": "markdown",
   "metadata": {
    "deletable": false,
    "editable": false,
    "nbgrader": {
     "grade": false,
     "locked": true,
     "solution": false
    },
    "tags": [
     "exercise_text"
    ]
   },
   "source": [
    "## Exercise 3 - (**1** Points): \n",
    "\n",
    "It's hard to tell how many cards/ranks appear in the 52/13-bit integer representations. We need a way to count\n",
    "the bits which are equal to 1 in an integer.\n",
    "\n",
    "Define `count_bits(n: int) -> int` as follows:\n",
    "- Input:\n",
    "    - `n`: a Python integer\n",
    "- Behavior:\n",
    "    - Convert `n` to a binary representation\n",
    "    - Count the number of times 1 appears in that representation\n",
    "    - **Note** `int.bit_count()` is not implemented in Python 3.8\n",
    "- Output:\n",
    "    - The count of ones in the binary representation"
   ]
  },
  {
   "cell_type": "code",
   "execution_count": 44,
   "metadata": {
    "collapsed": true,
    "deletable": false,
    "editable": false,
    "nbgrader": {
     "grade": false,
     "locked": true,
     "solution": false
    },
    "tags": [
     "demo_data"
    ]
   },
   "outputs": [],
   "source": [
    "### Define demo inputs\n",
    "\n",
    "# Note: Python will treat a sequence of 1s and 0s prefixed by \"0b\" as an integer\n",
    "#       The value will be what's represented in binary by the 1s and 0s\n",
    "#       The line below is equivalent to `demo_n_ex3 = 1941`\n",
    "\n",
    "demo_n_ex3 = 0b11110010101 # equivalent to `demo_n_ex3 = 1941`"
   ]
  },
  {
   "cell_type": "markdown",
   "metadata": {
    "deletable": false,
    "editable": false,
    "nbgrader": {
     "grade": false,
     "locked": true,
     "solution": false
    },
    "tags": [
     "demo_output_md"
    ]
   },
   "source": [
    "<!-- Expected demo output text block -->\n",
    "The demo included in the solution cell below should display the following output:\n",
    "```\n",
    "7\n",
    "```\n",
    "<!-- Include any shout outs here -->"
   ]
  },
  {
   "cell_type": "code",
   "execution_count": 48,
   "metadata": {
    "tags": [
     "exercise_solution"
    ]
   },
   "outputs": [
    {
     "data": {
      "text/plain": [
       "7"
      ]
     },
     "execution_count": 48,
     "metadata": {},
     "output_type": "execute_result"
    }
   ],
   "source": [
    "### Exercise 3 solution\n",
    "def count_bits(n: int) -> int:\n",
    "    ###\n",
    "    ### YOUR CODE HERE\n",
    "    ###\n",
    "    count=[]\n",
    "    binary_string=str(bin(n))\n",
    "    for s in binary_string:\n",
    "        count=+binary_string.count('1')\n",
    "    return count\n",
    "### demo function call\n",
    "count_bits(demo_n_ex3)"
   ]
  },
  {
   "cell_type": "markdown",
   "metadata": {
    "deletable": false,
    "editable": false,
    "nbgrader": {
     "grade": false,
     "locked": true,
     "solution": false
    },
    "tags": [
     "test_data_boilerplate"
    ]
   },
   "source": [
    "<!-- Test Cell Boilerplate -->\n",
    "The cell below will test your solution for Exercise 3. The testing variables will be available for debugging under the following names in a dictionary format.\n",
    "- `input_vars` - Input variables for your solution. \n",
    "- `original_input_vars` - Copy of input variables from prior to running your solution. These _should_ be the same as `input_vars` - otherwise the inputs were modified by your solution.\n",
    "- `returned_output_vars` - Outputs returned by your solution.\n",
    "- `true_output_vars` - The expected output. This _should_ \"match\" `returned_output_vars` based on the question requirements - otherwise, your solution is not returning the correct output. "
   ]
  },
  {
   "cell_type": "code",
   "execution_count": 49,
   "metadata": {
    "deletable": false,
    "editable": false,
    "nbgrader": {
     "grade": true,
     "grade_id": "ex3",
     "locked": true,
     "points": "1",
     "solution": false
    },
    "tags": []
   },
   "outputs": [
    {
     "name": "stdout",
     "output_type": "stream",
     "text": [
      "Passed! Please submit.\n"
     ]
    }
   ],
   "source": [
    "### test_cell_ex3\n",
    "###\n",
    "### AUTOGRADER TEST - DO NOT REMOVE\n",
    "###\n",
    "from tester_fw.testers import Tester\n",
    "\n",
    "conf = {\n",
    "    'case_file':'tc_3', \n",
    "    'func': count_bits, # replace this with the function defined above\n",
    "    'inputs':{ # input config dict. keys are parameter names\n",
    "        'n':{\n",
    "            'dtype':'int', # data type of param.\n",
    "            'check_modified':False,\n",
    "        }\n",
    "    },\n",
    "    'outputs':{\n",
    "        'output_0':{\n",
    "            'index':0,\n",
    "            'dtype':'int',\n",
    "            'check_dtype': True,\n",
    "            'check_col_dtypes': True, # Ignored if dtype is not df\n",
    "            'check_col_order': True, # Ignored if dtype is not df\n",
    "            'check_row_order': True, # Ignored if dtype is not df\n",
    "            'check_column_type': True, # Ignored if dtype is not df\n",
    "            'float_tolerance': 10 ** (-6)\n",
    "        }\n",
    "    }\n",
    "}\n",
    "tester = Tester(conf, key=b'kvX8VF1YUgURm8NySX8Cx_UW0ZHCC6WCFqotGOpgvQc=', path='resource/asnlib/publicdata/')\n",
    "for _ in range(70):\n",
    "    try:\n",
    "        tester.run_test()\n",
    "        (input_vars, original_input_vars, returned_output_vars, true_output_vars) = tester.get_test_vars()\n",
    "    except:\n",
    "        (input_vars, original_input_vars, returned_output_vars, true_output_vars) = tester.get_test_vars()\n",
    "        raise\n",
    "\n",
    "###\n",
    "### AUTOGRADER TEST - DO NOT REMOVE\n",
    "###\n",
    "print('Passed! Please submit.')"
   ]
  },
  {
   "cell_type": "markdown",
   "metadata": {
    "deletable": false,
    "editable": false,
    "nbgrader": {
     "grade": false,
     "locked": true,
     "solution": false
    },
    "tags": [
     "exercise_text"
    ]
   },
   "source": [
    "## Exercise 4 - (**3** Points): \n",
    "Now it's time to do some computation.  \n",
    "\n",
    "If we use `cards_info` to get the suit groups from the integer representation of a hand we can perform simple operations on the suit groups (W, X, Y, Z) to combine them and extract key information for identification.  \n",
    "  \n",
    "  \n",
    "You may have forgotten about Python's [bitwise \n",
    "operators](https://wiki.python.org/moin/BitwiseOperators), but it's worth reviewing the docs for a few minutes (They're short, but skip the part on negative numbers). Several of **these operators will be useful for this exercise. (`& | ^ >>`)**.\n",
    "\n",
    "We are interested in calculating the values for each variable in the table below.  \n",
    "\n",
    "|Variable|Type|Value|Meaning|\n",
    "|:--|:---:|:--:|--:|\n",
    "|flush|bool|True if **any of** W, X, Y, Z has a **bit count of 5**|True when all cards are the **same suit**|\n",
    "|hand_ranks|int|bits are 1 in positions where the bits are 1 in **W or X or Y or Z**|The **distinct ranks** in the hand|\n",
    "|quads|int|bits are 1 in positions where the bits are 1 in ** W and X and Y and Z**|The **ranks** which appear **four times** in the hand|\n",
    "|odd_ranks|int|bits are 1 in positions where the bits are 1 in **W xor X xor Y xor Z**|The **ranks** which appear **an odd number of times** in the hand|\n",
    "|trips|int|bits are 1 in positions where the <br>bits are 1 in **`odd_ranks` and `in_arbitrary_pair`**\\*|The **ranks** which appear **three times** in the hand|\n",
    "|five_high|bool|True if `hand_ranks` **is equal to** `poker_info['FIVE_HIGH']`\\*\\*|True when the hand is a **special case** called a \"five-high straight\".|\n",
    "|straight|bool|True if `five_high` is True **or**<br>`hand_ranks&(hand_ranks>>1)` has a **bit count of 4**|True when there are **five sequential ranks** in the hand|\n",
    "|rank_count|int|The **bit count of `hand_ranks`**|The **number of distinct ranks** in the hand|\n",
    "\n",
    "<sub>\\* `in_arbitrary_pair` is provided in the starter code. The logic is explained in the blog post linked below but is not worth delving into in an exam setting.  \n",
    "\\*\\* The five-high straight is an exception to the rank ordering given in `poker_info['RANKS']` because the sequence `'5 4 3 2 A'` is considered valid in poker.</sub>\n",
    "\n",
    "Define `get_reductions(hand: int) -> tuple` as follows:  \n",
    "- Input:\n",
    "    - `hand`: the 52-bit integer representation of a collection of 5 poker cards\n",
    "- Behavior:\n",
    "    - Partition the hand into four 13-bit integer \"suit-groups\" (implemented in starter code)\n",
    "    - Calculate the values outlined in the table above. We have provided the first two in the starter code as an example.\n",
    "- Output:\n",
    "    - The ordered tuple `(flush, hand_ranks, quads, odd_ranks, trips, five_high, straight, rank_count)`  \n",
    "    \n",
    "**Hint**  \n",
    "- This exercise draws heavily from the logic in this [blog post](https://www.mrkwatkins.co.uk/evaluating-poker-hands/). Feel free to use it as a reference.  \n",
    "\n",
    "**Recall from the introductory material** that the dictionary `poker_info` has a lot of useful constants and that the functions `cards_info`, `pprint_cards`, `ranks_info` and `pprint_ranks` can be used to get more information about the integer representations of collections of cards or ranks."
   ]
  },
  {
   "cell_type": "code",
   "execution_count": 50,
   "metadata": {
    "deletable": false,
    "editable": false,
    "nbgrader": {
     "grade": false,
     "locked": true,
     "solution": false
    },
    "tags": [
     "demo_data"
    ]
   },
   "outputs": [
    {
     "data": {
      "text/plain": [
       "[34084860461056,\n",
       " 2252899459547138,\n",
       " 3378112070942720,\n",
       " 595935302254592,\n",
       " 131958575202304,\n",
       " 598684148441088,\n",
       " 1144044063293440,\n",
       " 80815178383360,\n",
       " 723616090030080]"
      ]
     },
     "execution_count": 50,
     "metadata": {},
     "output_type": "execute_result"
    }
   ],
   "source": [
    "### Define demo inputs\n",
    "\n",
    "with open('resource/asnlib/publicdata/demo_hands_ex4.pkl', 'rb') as f:\n",
    "    import dill as pickle\n",
    "    demo_hands_ex4 = [v['hand'] for v in pickle.load(f).values()]\n",
    "    \n",
    "demo_hands_ex4"
   ]
  },
  {
   "cell_type": "markdown",
   "metadata": {
    "deletable": false,
    "editable": false,
    "nbgrader": {
     "grade": false,
     "locked": true,
     "solution": false
    },
    "tags": [
     "demo_output_md"
    ]
   },
   "source": [
    "<!-- Expected demo output text block -->\n",
    "The demo included in the solution cell below should display the following output:\n",
    "```\n",
    "get_reductions(34084860461056) -> (True, 62, 0, 62, 0, False, True, 5)\n",
    "get_reductions(2252899459547138) -> (False, 4098, 2, 4096, 0, False, False, 2)\n",
    "get_reductions(3378112070942720) -> (False, 6144, 0, 4096, 4096, False, False, 2)\n",
    "get_reductions(595935302254592) -> (True, 1084, 0, 1084, 0, False, False, 5)\n",
    "get_reductions(131958575202304) -> (False, 496, 0, 496, 0, False, True, 5)\n",
    "get_reductions(598684148441088) -> (False, 1089, 0, 1089, 1, False, False, 3)\n",
    "get_reductions(1144044063293440) -> (False, 2081, 0, 2048, 0, False, False, 3)\n",
    "get_reductions(80815178383360) -> (False, 147, 0, 131, 0, False, False, 4)\n",
    "get_reductions(723616090030080) -> (False, 3364, 0, 3364, 0, False, False, 5)\n",
    "```\n",
    "<!-- Include any shout outs here -->"
   ]
  },
  {
   "cell_type": "code",
   "execution_count": 56,
   "metadata": {
    "tags": [
     "exercise_solution"
    ]
   },
   "outputs": [
    {
     "name": "stdout",
     "output_type": "stream",
     "text": [
      "get_reductions(34084860461056) -> 0\n",
      "get_reductions(2252899459547138) -> 2\n",
      "get_reductions(3378112070942720) -> 6144\n",
      "get_reductions(595935302254592) -> 0\n",
      "get_reductions(131958575202304) -> 256\n",
      "get_reductions(598684148441088) -> 1\n",
      "get_reductions(1144044063293440) -> 33\n",
      "get_reductions(80815178383360) -> 16\n",
      "get_reductions(723616090030080) -> 2048\n"
     ]
    }
   ],
   "source": [
    "### Exercise 4 solution\n",
    "def get_reductions(hand: int) -> tuple:\n",
    "    ### Predefined values in starter code\n",
    "    \n",
    "    # W, X, Y, and Z are the four suit groups from the hand\n",
    "    W, X, Y, Z = [val for val in cards_info(hand)['suit_groups'].values()]\n",
    "    in_arbitrary_pair = (W & X) | (Y & Z)\n",
    "    \n",
    "    # We are also providing flush and hand_ranks as examples\n",
    "    flush =         (count_bits(W)==5) | (count_bits(X)==5) | (count_bits(Y)==5) | (count_bits(Z)==5)\n",
    "    hand_ranks =    W | X | Y | Z \n",
    "    quads = ()\n",
    "    ###\n",
    "    ### YOUR CODE HERE\n",
    "    ###\n",
    "    return Y\n",
    "### demo function call\n",
    "for hand in demo_hands_ex4:\n",
    "    print(f'get_reductions({hand}) -> {get_reductions(hand)}')"
   ]
  },
  {
   "cell_type": "markdown",
   "metadata": {
    "deletable": false,
    "editable": false,
    "nbgrader": {
     "grade": false,
     "locked": true,
     "solution": false
    },
    "tags": [
     "test_data_boilerplate"
    ]
   },
   "source": [
    "<!-- Test Cell Boilerplate -->\n",
    "The cell below will test your solution for Exercise 4. The testing variables will be available for debugging under the following names in a dictionary format.\n",
    "- `input_vars` - Input variables for your solution. \n",
    "- `original_input_vars` - Copy of input variables from prior to running your solution. These _should_ be the same as `input_vars` - otherwise the inputs were modified by your solution.\n",
    "- `returned_output_vars` - Outputs returned by your solution.\n",
    "- `true_output_vars` - The expected output. This _should_ \"match\" `returned_output_vars` based on the question requirements - otherwise, your solution is not returning the correct output. "
   ]
  },
  {
   "cell_type": "code",
   "execution_count": null,
   "metadata": {
    "collapsed": true,
    "deletable": false,
    "editable": false,
    "nbgrader": {
     "grade": true,
     "grade_id": "ex4",
     "locked": true,
     "points": "3",
     "solution": false
    },
    "tags": []
   },
   "outputs": [],
   "source": [
    "### test_cell_ex4\n",
    "###\n",
    "### AUTOGRADER TEST - DO NOT REMOVE\n",
    "###\n",
    "from tester_fw.testers import Tester\n",
    "\n",
    "conf = {\n",
    "    'case_file':'tc_4', \n",
    "    'func': get_reductions, # replace this with the function defined above\n",
    "    'inputs':{ # input config dict. keys are parameter names\n",
    "        'hand':{\n",
    "            'dtype':'int', # data type of param.\n",
    "            'check_modified':False,\n",
    "        }\n",
    "    },\n",
    "    'outputs':{\n",
    "        'flush':{\n",
    "            'index':0,\n",
    "            'dtype':'bool',\n",
    "            'check_dtype': True,\n",
    "            'check_col_dtypes': True, # Ignored if dtype is not df\n",
    "            'check_col_order': True, # Ignored if dtype is not df\n",
    "            'check_row_order': True, # Ignored if dtype is not df\n",
    "            'check_column_type': True, # Ignored if dtype is not df\n",
    "            'float_tolerance': 10 ** (-6)\n",
    "        },\n",
    "        'hand_ranks':{\n",
    "            'index':1,\n",
    "            'dtype':'int',\n",
    "            'check_dtype': True,\n",
    "            'check_col_dtypes': True, # Ignored if dtype is not df\n",
    "            'check_col_order': True, # Ignored if dtype is not df\n",
    "            'check_row_order': True, # Ignored if dtype is not df\n",
    "            'check_column_type': True, # Ignored if dtype is not df\n",
    "            'float_tolerance': 10 ** (-6)\n",
    "        },\n",
    "        'quads':{\n",
    "            'index':2,\n",
    "            'dtype':'int',\n",
    "            'check_dtype': True,\n",
    "            'check_col_dtypes': True, # Ignored if dtype is not df\n",
    "            'check_col_order': True, # Ignored if dtype is not df\n",
    "            'check_row_order': True, # Ignored if dtype is not df\n",
    "            'check_column_type': True, # Ignored if dtype is not df\n",
    "            'float_tolerance': 10 ** (-6)\n",
    "        },\n",
    "        'odd_ranks':{\n",
    "            'index':3,\n",
    "            'dtype':'int',\n",
    "            'check_dtype': True,\n",
    "            'check_col_dtypes': True, # Ignored if dtype is not df\n",
    "            'check_col_order': True, # Ignored if dtype is not df\n",
    "            'check_row_order': True, # Ignored if dtype is not df\n",
    "            'check_column_type': True, # Ignored if dtype is not df\n",
    "            'float_tolerance': 10 ** (-6)\n",
    "        },\n",
    "        'trips':{\n",
    "            'index':4,\n",
    "            'dtype':'int',\n",
    "            'check_dtype': True,\n",
    "            'check_col_dtypes': True, # Ignored if dtype is not df\n",
    "            'check_col_order': True, # Ignored if dtype is not df\n",
    "            'check_row_order': True, # Ignored if dtype is not df\n",
    "            'check_column_type': True, # Ignored if dtype is not df\n",
    "            'float_tolerance': 10 ** (-6)\n",
    "        },\n",
    "        'five_high':{\n",
    "            'index':5,\n",
    "            'dtype':'bool',\n",
    "            'check_dtype': True,\n",
    "            'check_col_dtypes': True, # Ignored if dtype is not df\n",
    "            'check_col_order': True, # Ignored if dtype is not df\n",
    "            'check_row_order': True, # Ignored if dtype is not df\n",
    "            'check_column_type': True, # Ignored if dtype is not df\n",
    "            'float_tolerance': 10 ** (-6)\n",
    "        },\n",
    "        'straight':{\n",
    "            'index':6,\n",
    "            'dtype':'bool',\n",
    "            'check_dtype': True,\n",
    "            'check_col_dtypes': True, # Ignored if dtype is not df\n",
    "            'check_col_order': True, # Ignored if dtype is not df\n",
    "            'check_row_order': True, # Ignored if dtype is not df\n",
    "            'check_column_type': True, # Ignored if dtype is not df\n",
    "            'float_tolerance': 10 ** (-6)\n",
    "        },\n",
    "        'rank_count':{\n",
    "            'index':7,\n",
    "            'dtype':'int',\n",
    "            'check_dtype': True,\n",
    "            'check_col_dtypes': True, # Ignored if dtype is not df\n",
    "            'check_col_order': True, # Ignored if dtype is not df\n",
    "            'check_row_order': True, # Ignored if dtype is not df\n",
    "            'check_column_type': True, # Ignored if dtype is not df\n",
    "            'float_tolerance': 10 ** (-6)\n",
    "        }\n",
    "    }\n",
    "}\n",
    "tester = Tester(conf, key=b'kvX8VF1YUgURm8NySX8Cx_UW0ZHCC6WCFqotGOpgvQc=', path='resource/asnlib/publicdata/')\n",
    "for _ in range(500):\n",
    "    try:\n",
    "        tester.run_test()\n",
    "        (input_vars, original_input_vars, returned_output_vars, true_output_vars) = tester.get_test_vars()\n",
    "    except:\n",
    "        (input_vars, original_input_vars, returned_output_vars, true_output_vars) = tester.get_test_vars()\n",
    "        raise\n",
    "\n",
    "###\n",
    "### AUTOGRADER TEST - DO NOT REMOVE\n",
    "###\n",
    "print('Passed! Please submit.')"
   ]
  },
  {
   "cell_type": "markdown",
   "metadata": {
    "deletable": false,
    "editable": false,
    "nbgrader": {
     "grade": false,
     "locked": true,
     "solution": false
    },
    "tags": [
     "exercise_text"
    ]
   },
   "source": [
    "## Exercise 5 - (**3** Points): \n",
    "With the 8 reductions from the hand we can now calculate its strength attributes. In the chart below see that each `rank_count` value and branch condition identifies a hand type and how to determine the primary and secondary ranks for that hand type.\n",
    "\n",
    "|rank_count|branch condition|type|primary ranks|secondary ranks|\n",
    "|:---|:---|:---|---:|---:|\n",
    "|2|Any rank is in 4 suits|FOUR_OF_A_KIND|Rank in 4 suits|Rank in the hand but not in 4 suits|\n",
    "|2|No rank is in 4 suits|FULL_HOUSE|Ranks in an odd number of suits|Rank in the hand but not in an odd number of suits|  \n",
    "|3|Any rank is in 3 suits|THREE_OF_A_KIND|Rank in 3 suits|Ranks in the hand but not in 3 suits|\n",
    "|3|No rank is in 3 suits|TWO_PAIR|Ranks in the hand but not in an odd number of suits|Ranks in an odd number of suits|  \n",
    "|4|True|PAIR|Ranks in the hand but not in an odd number of suits|Ranks in an odd number of suits|  \n",
    "|5|All cards the same suit and all ranks sequential|STRAIGHT_FLUSH|Ranks in the hand (see note)|0|\n",
    "|5|All cards the same suit but ranks not sequential|FLUSH|Ranks in the hand|0|\n",
    "|5|All ranks sequential but not all cards are the same suit|STRAIGHT|Ranks in the hand (see note)|0|\n",
    "|5|Ranks not sequential not all cards are the same suit|HIGH_CARD|Ranks in the hand|0|\n",
    "\n",
    "**Note** In the special case of a five-high straight or five-high straight-flush, `15` should be returned as the primary ranks.\n",
    "  \n",
    "  \n",
    "**Your task**  \n",
    "Define `identify_from_reductions(flush: bool,\n",
    "                          hand_ranks: int,\n",
    "                          quads: int,\n",
    "                          odd_ranks: int,\n",
    "                          trips: int,\n",
    "                          five_high: bool,\n",
    "                          straight: bool,\n",
    "                          rank_count: int) -> tuple`\n",
    "- Inputs:\n",
    "    - `flush`: `True` if all cards are the same suit. `False` otherwise\n",
    "    - `hand_ranks`: 13-bit integer representation of all the ranks in the hand\n",
    "    - `quads`: 13-bit integer representation of all the ranks appearing in 4 suits\n",
    "    - `odd_ranks`: 13-bit integer representation of all ranks appearing in an odd number of suits\n",
    "    - `trips`: 13-bit integer representation of all the ranks in 3 suits\n",
    "    - `five_high`: `True` if the ranks in the hand meet the criteria for a five high straight `False` otherwise\n",
    "    - `straight`: `True` if all ranks in the hand are sequential. `False` otherwise\n",
    "    - `rank_count`: count of the number of distinct ranks in the hand\n",
    "- Behavior:\n",
    "    - Evaluate the hand type, primary ranks, and secondary ranks of the hand per the logic in the table above\n",
    "- Output:\n",
    "    - Ordered tuple (`str`, `int`, `int`) containing the hand type, primary ranks, and secondary ranks  \n",
    "    \n",
    "    \n",
    "**Recall from the introductory material** that the dictionary `poker_info` has a lot of useful constants and that the functions `cards_info`, `pprint_cards`, `ranks_info` and `pprint_ranks` can be used to get more information about the integer representations of collections of cards or ranks."
   ]
  },
  {
   "cell_type": "code",
   "execution_count": null,
   "metadata": {
    "collapsed": true,
    "deletable": false,
    "editable": false,
    "nbgrader": {
     "grade": false,
     "locked": true,
     "solution": false
    },
    "tags": [
     "demo_data"
    ]
   },
   "outputs": [],
   "source": [
    "# demo_reductions_ex5 = [random_type_example(t)['reductions'] for t in poker_info['HAND_TYPES']]\n",
    "with open('resource/asnlib/publicdata/demo_reductions.pkl', 'rb') as f:\n",
    "    demo_reductions_ex5 = pickle.load(f)"
   ]
  },
  {
   "cell_type": "markdown",
   "metadata": {
    "deletable": false,
    "editable": false,
    "nbgrader": {
     "grade": false,
     "locked": true,
     "solution": false
    },
    "tags": [
     "demo_output_md"
    ]
   },
   "source": [
    "<!-- Expected demo output text block -->\n",
    "The demo included in the solution cell below should display the following output:\n",
    "```\n",
    "('STRAIGHT_FLUSH', 124, 0) \n",
    "\n",
    "('FOUR_OF_A_KIND', 128, 64) \n",
    "\n",
    "('FULL_HOUSE', 2048, 1024) \n",
    "\n",
    "('FLUSH', 3400, 0) \n",
    "\n",
    "('STRAIGHT', 62, 0) \n",
    "\n",
    "('THREE_OF_A_KIND', 512, 1032) \n",
    "\n",
    "('TWO_PAIR', 2064, 4) \n",
    "\n",
    "('PAIR', 16, 578) \n",
    "\n",
    "('HIGH_CARD', 454, 0) \n",
    "```\n",
    "Note: The demo iterates over a number of inputs and shows both inputs and outputs. You only need to return the outputs."
   ]
  },
  {
   "cell_type": "code",
   "execution_count": null,
   "metadata": {
    "collapsed": true,
    "tags": [
     "exercise_solution"
    ]
   },
   "outputs": [],
   "source": [
    "### Exercise 5 solution\n",
    "def identify_from_reductions(flush: bool,\n",
    "                          hand_ranks: int,\n",
    "                          quads: int,\n",
    "                          odd_ranks: int,\n",
    "                          trips: int,\n",
    "                          five_high: bool,\n",
    "                          straight: bool,\n",
    "                          rank_count: int) -> tuple:\n",
    "    ###\n",
    "    ### YOUR CODE HERE\n",
    "    ###\n",
    "    \n",
    "for reduction in demo_reductions_ex5:\n",
    "    print(reduction, '---------->              ')\n",
    "    print(identify_from_reductions(**reduction), '\\n')"
   ]
  },
  {
   "cell_type": "markdown",
   "metadata": {
    "deletable": false,
    "editable": false,
    "nbgrader": {
     "grade": false,
     "locked": true,
     "solution": false
    },
    "tags": [
     "test_data_boilerplate"
    ]
   },
   "source": [
    "<!-- Test Cell Boilerplate -->\n",
    "The cell below will test your solution for Exercise 5. The testing variables will be available for debugging under the following names in a dictionary format.\n",
    "- `input_vars` - Input variables for your solution. \n",
    "- `original_input_vars` - Copy of input variables from prior to running your solution. These _should_ be the same as `input_vars` - otherwise the inputs were modified by your solution.\n",
    "- `returned_output_vars` - Outputs returned by your solution.\n",
    "- `true_output_vars` - The expected output. This _should_ \"match\" `returned_output_vars` based on the question requirements - otherwise, your solution is not returning the correct output. "
   ]
  },
  {
   "cell_type": "code",
   "execution_count": null,
   "metadata": {
    "collapsed": true,
    "deletable": false,
    "editable": false,
    "nbgrader": {
     "grade": true,
     "grade_id": "ex5",
     "locked": true,
     "points": "3",
     "solution": false
    },
    "tags": []
   },
   "outputs": [],
   "source": [
    "### test_cell_ex5\n",
    "###\n",
    "### AUTOGRADER TEST - DO NOT REMOVE\n",
    "###\n",
    "from tester_fw.testers import Tester\n",
    "\n",
    "conf = {\n",
    "    'case_file':'tc_5', \n",
    "    'func': identify_from_reductions, # replace this with the function defined above\n",
    "    'inputs':{\n",
    "        'rank_count': {'dtype': 'int', 'check_modified': False},\n",
    "         'hand_ranks': {'dtype': 'int', 'check_modified': False},\n",
    "         'odd_ranks': {'dtype': 'int', 'check_modified': False},\n",
    "         'quads': {'dtype': 'int', 'check_modified': False},\n",
    "         'flush': {'dtype': 'bool', 'check_modified': False},\n",
    "         'trips': {'dtype': 'int', 'check_modified': False},\n",
    "         'straight': {'dtype': 'bool', 'check_modified': False},\n",
    "         'five_high': {'dtype': 'bool', 'check_modified': False}\n",
    "    },\n",
    "    'outputs':{\n",
    "            'hand_type': {'index': 0,\n",
    "              'dtype': 'str',\n",
    "              'check_dtype': True,\n",
    "              'check_col_dtypes': True,\n",
    "              'check_col_order': True,\n",
    "              'check_row_order': True,\n",
    "              'check_column_type': True,\n",
    "              'float_tolerance': 1e-06},\n",
    "             'primary': {'index': 1,\n",
    "              'dtype': 'int',\n",
    "              'check_dtype': True,\n",
    "              'check_col_dtypes': True,\n",
    "              'check_col_order': True,\n",
    "              'check_row_order': True,\n",
    "              'check_column_type': True,\n",
    "              'float_tolerance': 1e-06},\n",
    "             'secondary': {'index': 2,\n",
    "              'dtype': 'int',\n",
    "              'check_dtype': True,\n",
    "              'check_col_dtypes': True,\n",
    "              'check_col_order': True,\n",
    "              'check_row_order': True,\n",
    "              'check_column_type': True,\n",
    "              'float_tolerance': 1e-06}\n",
    "    }\n",
    "}\n",
    "tester = Tester(conf, key=b'kvX8VF1YUgURm8NySX8Cx_UW0ZHCC6WCFqotGOpgvQc=', path='resource/asnlib/publicdata/')\n",
    "for _ in range(70):\n",
    "    try:\n",
    "        tester.run_test()\n",
    "        (input_vars, original_input_vars, returned_output_vars, true_output_vars) = tester.get_test_vars()\n",
    "    except:\n",
    "        (input_vars, original_input_vars, returned_output_vars, true_output_vars) = tester.get_test_vars()\n",
    "        raise\n",
    "\n",
    "###\n",
    "### AUTOGRADER TEST - DO NOT REMOVE\n",
    "###\n",
    "print('Passed! Please submit.')"
   ]
  },
  {
   "cell_type": "markdown",
   "metadata": {
    "deletable": false,
    "editable": false,
    "nbgrader": {
     "grade": false,
     "locked": true,
     "solution": false
    },
    "tags": [
     "exercise_text"
    ]
   },
   "source": [
    "## Exercise 6 - (**2** Points): \n",
    "Now that we've identified the strength attributes of the hand we need some way to compare them. We can leverage integers again. If we use the lookup dictionary in `poker_info` we can translate the string representation of each hand type into its relative strength. The stronger types are higher. Lets construct an integer as follows:  \n",
    "\n",
    "- Bit positions 26-29 are the relative strength of the hand type (can be extracted from `poker_info`)\n",
    "- Bit positions 13-25 are the primary ranks of the hand\n",
    "- Bit positions 0-12 are the secondary ranks of the hand\n",
    "\n",
    "For example `('THREE_OF_A_KIND', 512, 1032)`:\n",
    "```\n",
    "TYPE:      0100\n",
    "PRIMARY:   0001000000000\n",
    "SECONDARY: 0010000001000\n",
    "\n",
    "TYPE | PRIMARY       | SECONDARY\n",
    "---- | -------       | ---------\n",
    "0100 | 0001000000000 | 0010000001000\n",
    "\n",
    "Score in binary                  | base-10\n",
    "---------------                  | -------\n",
    "0b010000010000000000010000001000 | 272630792\n",
    "\n",
    "```\n",
    "\n",
    "The result will always be larger for stronger poker hands.\n",
    "\n",
    "Define `score_from_info(hand_type: str, primary: int, secondary: int) -> int` as follows:\n",
    "- Inputs:\n",
    "    - `hand_type` - string representing a type of hand. Will be a key of `poker_info['HAND_TYPES']`\n",
    "    - `primary` - 13-bit integer representation of the primary ranks of a hand\n",
    "    - `secondary` - 13-bit integer representation of the secondary ranks of a hand\n",
    "- Behavior:\n",
    "    - Determine the relative strength of the hand type. There is a mapping from name to relative strength in `poker_info`.\n",
    "    - Concatenate the bits for relative type strength, primary and secondary ranks to form the score\n",
    "    - **HINT** - In the next exercise starter code we provide a utility for unpacking an integer of this form into its components. \n",
    "- Output:\n",
    "    - 30-bit integer score  \n",
    "    \n",
    "**Recall from the introductory material** that the dictionary `poker_info` has a lot of useful constants and that the functions `cards_info`, `pprint_cards`, `ranks_info` and `pprint_ranks` can be used to get more information about the integer representations of collections of cards or ranks."
   ]
  },
  {
   "cell_type": "markdown",
   "metadata": {
    "deletable": false,
    "editable": false,
    "nbgrader": {
     "grade": false,
     "locked": true,
     "solution": false
    },
    "tags": [
     "demo_output_md"
    ]
   },
   "source": [
    "<!-- Expected demo output text block -->\n",
    "The demo included in the solution cell below should display the following output:\n",
    "```\n",
    "272630792\n",
    "```\n",
    "<!-- Include any shout outs here -->"
   ]
  },
  {
   "cell_type": "code",
   "execution_count": 118,
   "metadata": {
    "tags": [
     "exercise_solution"
    ]
   },
   "outputs": [
    {
     "data": {
      "text/plain": [
       "272630792"
      ]
     },
     "execution_count": 118,
     "metadata": {},
     "output_type": "execute_result"
    }
   ],
   "source": [
    "### Exercise 6 solution\n",
    "def score_from_info(hand_type: str, primary: int, secondary: int) -> int:\n",
    "    ###\n",
    "    ### YOUR CODE HERE\n",
    "    ###\n",
    "    FOUR_BITS = 0b1111\n",
    "    THIRTEEN_BITS = 0b1111111111111\n",
    "    hand_val=poker_info['HAND_TYPES'].get(hand_type)\n",
    "    hand_binary=bin(hand_val)\n",
    "    hand_binary=hand_binary[2:]\n",
    "    primary_binary=bin(primary)\n",
    "    primary_binary=primary_binary[2:]\n",
    "    secondary_binary=bin(secondary)\n",
    "    secondary_binary=secondary_binary[2:]\n",
    "    hand_format=hand_binary.zfill(4)\n",
    "    primary_format=primary_binary.zfill(13)\n",
    "    secondary_format = secondary_binary.zfill(13) \n",
    "    score=hand_format+primary_format+secondary_format\n",
    "    score=int(score,2)\n",
    "    return score\n",
    "    \n",
    "    #type_score = FOUR_BITS & score>>26         # shift right by 26 and keep first 4 bits\n",
    "    #primary_ranks = THIRTEEN_BITS & score>>13  # shift right by 13 and keep first 13 bits\n",
    "    #secondary_ranks = THIRTEEN_BITS & score    # keep first 13 bits\n",
    "    #return type_score, primary_ranks, secondary_ranks\n",
    "### demo function call\n",
    "score_from_info('THREE_OF_A_KIND', 512, 1032)"
   ]
  },
  {
   "cell_type": "markdown",
   "metadata": {
    "deletable": false,
    "editable": false,
    "nbgrader": {
     "grade": false,
     "locked": true,
     "solution": false
    },
    "tags": [
     "test_data_boilerplate"
    ]
   },
   "source": [
    "<!-- Test Cell Boilerplate -->\n",
    "The cell below will test your solution for Exercise 6. The testing variables will be available for debugging under the following names in a dictionary format.\n",
    "- `input_vars` - Input variables for your solution. \n",
    "- `original_input_vars` - Copy of input variables from prior to running your solution. These _should_ be the same as `input_vars` - otherwise the inputs were modified by your solution.\n",
    "- `returned_output_vars` - Outputs returned by your solution.\n",
    "- `true_output_vars` - The expected output. This _should_ \"match\" `returned_output_vars` based on the question requirements - otherwise, your solution is not returning the correct output. "
   ]
  },
  {
   "cell_type": "code",
   "execution_count": 119,
   "metadata": {
    "deletable": false,
    "editable": false,
    "nbgrader": {
     "grade": true,
     "grade_id": "ex6",
     "locked": true,
     "points": "2",
     "solution": false
    },
    "tags": []
   },
   "outputs": [
    {
     "name": "stdout",
     "output_type": "stream",
     "text": [
      "Passed! Please submit.\n"
     ]
    }
   ],
   "source": [
    "### test_cell_ex6\n",
    "###\n",
    "### AUTOGRADER TEST - DO NOT REMOVE\n",
    "###\n",
    "from tester_fw.testers import Tester\n",
    "\n",
    "conf = {\n",
    "    'case_file':'tc_6', \n",
    "    'func': score_from_info, # replace this with the function defined above\n",
    "    'inputs':{\n",
    "        'hand_type': {'dtype': 'str', 'check_modified': False},\n",
    "     'primary': {'dtype': 'int', 'check_modified': False},\n",
    "     'secondary': {'dtype': 'int', 'check_modified': False}\n",
    "    },\n",
    "    'outputs':{\n",
    "        'output_0':{\n",
    "            'index':0,\n",
    "            'dtype':'int',\n",
    "            'check_dtype': True,\n",
    "            'check_col_dtypes': True, # Ignored if dtype is not df\n",
    "            'check_col_order': True, # Ignored if dtype is not df\n",
    "            'check_row_order': True, # Ignored if dtype is not df\n",
    "            'check_column_type': True, # Ignored if dtype is not df\n",
    "            'float_tolerance': 10 ** (-6)\n",
    "        }\n",
    "    }\n",
    "}\n",
    "tester = Tester(conf, key=b'kvX8VF1YUgURm8NySX8Cx_UW0ZHCC6WCFqotGOpgvQc=', path='resource/asnlib/publicdata/')\n",
    "for _ in range(70):\n",
    "    try:\n",
    "        tester.run_test()\n",
    "        (input_vars, original_input_vars, returned_output_vars, true_output_vars) = tester.get_test_vars()\n",
    "    except:\n",
    "        (input_vars, original_input_vars, returned_output_vars, true_output_vars) = tester.get_test_vars()\n",
    "        raise\n",
    "\n",
    "###\n",
    "### AUTOGRADER TEST - DO NOT REMOVE\n",
    "###\n",
    "print('Passed! Please submit.')"
   ]
  },
  {
   "cell_type": "code",
   "execution_count": 115,
   "metadata": {},
   "outputs": [
    {
     "data": {
      "text/plain": [
       "{'hand_type': 'FOUR_OF_A_KIND', 'primary': 128, 'secondary': 8}"
      ]
     },
     "execution_count": 115,
     "metadata": {},
     "output_type": "execute_result"
    }
   ],
   "source": [
    "input_vars"
   ]
  },
  {
   "cell_type": "code",
   "execution_count": 116,
   "metadata": {},
   "outputs": [
    {
     "data": {
      "text/plain": [
       "{'output_0': '0b1000'}"
      ]
     },
     "execution_count": 116,
     "metadata": {},
     "output_type": "execute_result"
    }
   ],
   "source": [
    "returned_output_vars"
   ]
  },
  {
   "cell_type": "code",
   "execution_count": 117,
   "metadata": {},
   "outputs": [
    {
     "data": {
      "text/plain": [
       "{'output_0': 537919496}"
      ]
     },
     "execution_count": 117,
     "metadata": {},
     "output_type": "execute_result"
    }
   ],
   "source": [
    "true_output_vars"
   ]
  },
  {
   "cell_type": "markdown",
   "metadata": {
    "deletable": false,
    "editable": false,
    "nbgrader": {
     "grade": false,
     "locked": true,
     "solution": false
    },
    "tags": [
     "exercise_text"
    ]
   },
   "source": [
    "## Exercise 7 - (**2** Points): \n",
    "Translate the score for a poker hand into human readable versions of its components\n",
    "- Inputs:\n",
    "    - `score`: the score for a poker hand\n",
    "- Behavior:\n",
    "    - Partition the score into its type_score, primary_ranks, and secondary_ranks components\n",
    "    - Translate the type_score into the corresponding hand type\n",
    "        - Recall `poker_info['HAND_TYPES']` maps hand types to type_score values. \n",
    "    - Translate both \"\\_ranks\" components into a Python set containing the human readable ranks\n",
    "        - `0b1100000000000` =  1536 -> `{'A', 'K'}`\n",
    "- Output:\n",
    "    - Dictionary with these key/value pairs:\n",
    "        - `hand_type`: (`str`) - the hand type\n",
    "        - `primary`: (`set`) - set of the primary ranks\n",
    "        - `secondary`: (`set`) - set of the secondary ranks\n",
    "\n",
    "**Note**  \n",
    "- We have provided `partition_score`, a function that partitions the score into its components.  \n",
    "- If the partition for the secondary component of the score is `0` then an **empty set** should be returned.\n",
    "\n",
    "**Recall from the introductory material** that the dictionary `poker_info` has a lot of useful constants and that the functions `cards_info`, `pprint_cards`, `ranks_info` and `pprint_ranks` can be used to get more information about the integer representations of collections of cards or ranks. "
   ]
  },
  {
   "cell_type": "markdown",
   "metadata": {
    "deletable": false,
    "editable": false,
    "nbgrader": {
     "grade": false,
     "locked": true,
     "solution": false
    },
    "tags": [
     "demo_output_md"
    ]
   },
   "source": [
    "<!-- Expected demo output text block -->\n",
    "The demo included in the solution cell below should display the following output:\n",
    "```\n",
    "{'hand_type': 'THREE_OF_A_KIND', 'primary': {'T'}, 'secondary': {'4', 'A'}}\n",
    "```\n",
    "<!-- Include any shout outs here -->"
   ]
  },
  {
   "cell_type": "code",
   "execution_count": null,
   "metadata": {
    "collapsed": true
   },
   "outputs": [],
   "source": [
    "    FOUR_BITS = 0b1111\n",
    "    THIRTEEN_BITS = 0b1111111111111\n",
    "    hand_val=poker_info['HAND_TYPES'].get(hand_type)\n",
    "    hand_binary=bin(hand_val)\n",
    "    hand_binary=hand_binary[2:]\n",
    "    primary_binary=bin(primary)\n",
    "    primary_binary=primary_binary[2:]\n",
    "    secondary_binary=bin(secondary)\n",
    "    secondary_binary=secondary_binary[2:]\n",
    "    hand_format=hand_binary.zfill(4)\n",
    "    primary_format=primary_binary.zfill(13)\n",
    "    secondary_format = secondary_binary.zfill(13) \n",
    "    score=hand_format+primary_format+secondary_format\n",
    "    score=int(score,2)\n",
    "    return score"
   ]
  },
  {
   "cell_type": "code",
   "execution_count": 59,
   "metadata": {
    "tags": [
     "exercise_solution"
    ]
   },
   "outputs": [
    {
     "data": {
      "text/plain": [
       "{'hand_type': 'THREE_OF_A_KIND', 'primary': {'T'}, 'secondary': {'4', 'A'}}"
      ]
     },
     "execution_count": 59,
     "metadata": {},
     "output_type": "execute_result"
    }
   ],
   "source": [
    "### Exercise 7 solution\n",
    "def partition_score(score: int) -> tuple:\n",
    "    '''Partitions a poker hand score into its type strength, primary ranks, and secondary ranks components\n",
    "    '''\n",
    "    FOUR_BITS = 0b1111\n",
    "    THIRTEEN_BITS = 0b1111111111111\n",
    "    \n",
    "    type_score = FOUR_BITS & score>>26         # shift right by 26 and keep first 4 bits\n",
    "    primary_ranks = THIRTEEN_BITS & score>>13  # shift right by 13 and keep first 13 bits\n",
    "    secondary_ranks = THIRTEEN_BITS & score    # keep first 13 bits\n",
    "\n",
    "    return type_score, primary_ranks, secondary_ranks\n",
    "\n",
    "def translate_score(score: int) -> dict:\n",
    "    type_score, primary_ranks, secondary_ranks = partition_score(score)\n",
    "    key_list=['hand_type','primary', 'secondary']\n",
    "    score_dict=dict.fromkeys(key_list, 0)\n",
    "    type_int=int(type_score)\n",
    "    primary_ranks1=bin(primary_ranks)\n",
    "    for k, value in poker_info['HAND_TYPES'].items():\n",
    "        if type_score==value:\n",
    "            score_dict['hand_type']=k\n",
    "    ranks_info_primary=ranks_info(primary_ranks)\n",
    "    ranks_info_primary=list(ranks_info_primary['string_representation'])\n",
    "    ranks_info_primary =[ele for ele in ranks_info_primary if ele.strip()]\n",
    "    score_dict['primary']=set(ranks_info_primary)\n",
    "    ranks_info_secondary=ranks_info(secondary_ranks)\n",
    "    ranks_info_secondary=list(ranks_info_secondary['string_representation'])\n",
    "    ranks_info_secondary =[ele for ele in ranks_info_secondary if ele.strip()]\n",
    "    score_dict['secondary']=set(ranks_info_secondary)\n",
    "    return score_dict\n",
    "    \n",
    "    ###\n",
    "    ### YOUR CODE HERE\n",
    "    ###\n",
    "    \n",
    "### demo function call\n",
    "\n",
    "translate_score(270536708)"
   ]
  },
  {
   "cell_type": "markdown",
   "metadata": {
    "deletable": false,
    "editable": false,
    "nbgrader": {
     "grade": false,
     "locked": true,
     "solution": false
    },
    "tags": [
     "test_data_boilerplate"
    ]
   },
   "source": [
    "<!-- Test Cell Boilerplate -->\n",
    "The cell below will test your solution for Exercise 7. The testing variables will be available for debugging under the following names in a dictionary format.\n",
    "- `input_vars` - Input variables for your solution. \n",
    "- `original_input_vars` - Copy of input variables from prior to running your solution. These _should_ be the same as `input_vars` - otherwise the inputs were modified by your solution.\n",
    "- `returned_output_vars` - Outputs returned by your solution.\n",
    "- `true_output_vars` - The expected output. This _should_ \"match\" `returned_output_vars` based on the question requirements - otherwise, your solution is not returning the correct output. "
   ]
  },
  {
   "cell_type": "code",
   "execution_count": 60,
   "metadata": {
    "deletable": false,
    "editable": false,
    "nbgrader": {
     "grade": true,
     "grade_id": "ex7",
     "locked": true,
     "points": "2",
     "solution": false
    },
    "scrolled": false,
    "tags": []
   },
   "outputs": [
    {
     "name": "stdout",
     "output_type": "stream",
     "text": [
      "Passed! Please submit.\n"
     ]
    }
   ],
   "source": [
    "### test_cell_ex7\n",
    "###\n",
    "### AUTOGRADER TEST - DO NOT REMOVE\n",
    "###\n",
    "from tester_fw.testers import Tester\n",
    "\n",
    "conf = {\n",
    "    'case_file':'tc_7', \n",
    "    'func': translate_score, # replace this with the function defined above\n",
    "    'inputs':{ # input config dict. keys are parameter names\n",
    "        'score':{\n",
    "            'dtype':'int', # data type of param.\n",
    "            'check_modified':True,\n",
    "        }\n",
    "    },\n",
    "    'outputs':{\n",
    "        'output_0':{\n",
    "            'index':0,\n",
    "            'dtype':'dict',\n",
    "            'check_dtype': True,\n",
    "            'check_col_dtypes': True, # Ignored if dtype is not df\n",
    "            'check_col_order': True, # Ignored if dtype is not df\n",
    "            'check_row_order': True, # Ignored if dtype is not df\n",
    "            'check_column_type': True, # Ignored if dtype is not df\n",
    "            'float_tolerance': 10 ** (-6)\n",
    "        }\n",
    "    }\n",
    "}\n",
    "tester = Tester(conf, key=b'kvX8VF1YUgURm8NySX8Cx_UW0ZHCC6WCFqotGOpgvQc=', path='resource/asnlib/publicdata/')\n",
    "for _ in range(70):\n",
    "    try:\n",
    "        tester.run_test()\n",
    "        (input_vars, original_input_vars, returned_output_vars, true_output_vars) = tester.get_test_vars()\n",
    "    except:\n",
    "        (input_vars, original_input_vars, returned_output_vars, true_output_vars) = tester.get_test_vars()\n",
    "        raise\n",
    "\n",
    "###\n",
    "### AUTOGRADER TEST - DO NOT REMOVE\n",
    "###\n",
    "print('Passed! Please submit.')"
   ]
  },
  {
   "cell_type": "code",
   "execution_count": 147,
   "metadata": {},
   "outputs": [
    {
     "data": {
      "text/plain": [
       "{'output_0': 6}"
      ]
     },
     "execution_count": 147,
     "metadata": {},
     "output_type": "execute_result"
    }
   ],
   "source": [
    "returned_output_vars"
   ]
  },
  {
   "cell_type": "code",
   "execution_count": 148,
   "metadata": {},
   "outputs": [
    {
     "data": {
      "text/plain": [
       "{'output_0': {'hand_type': 'FLUSH',\n",
       "  'primary': {'2', '7', 'A', 'J', 'T'},\n",
       "  'secondary': set()}}"
      ]
     },
     "execution_count": 148,
     "metadata": {},
     "output_type": "execute_result"
    }
   ],
   "source": [
    "true_output_vars"
   ]
  },
  {
   "cell_type": "code",
   "execution_count": 149,
   "metadata": {},
   "outputs": [
    {
     "data": {
      "text/plain": [
       "{'score': 442769408}"
      ]
     },
     "execution_count": 149,
     "metadata": {},
     "output_type": "execute_result"
    }
   ],
   "source": [
    "input_vars"
   ]
  },
  {
   "cell_type": "markdown",
   "metadata": {
    "deletable": false,
    "editable": false,
    "nbgrader": {
     "grade": false,
     "locked": true,
     "solution": false
    },
    "tags": [
     "fin"
    ]
   },
   "source": [
    "**Fin.** If you have made it this far, congratulations on completing the exam. **Don't forget to submit!**"
   ]
  }
 ],
 "metadata": {
  "celltoolbar": "Edit Metadata",
  "interpreter": {
   "hash": "f2b38b6e01547e8f771d473ea2b8718fd0728eea782e4c924ed8783f739d4a6c"
  },
  "kernelspec": {
   "display_name": "Python 3.8",
   "language": "python",
   "name": "python38"
  },
  "language_info": {
   "codemirror_mode": {
    "name": "ipython",
    "version": 3
   },
   "file_extension": ".py",
   "mimetype": "text/x-python",
   "name": "python",
   "nbconvert_exporter": "python",
   "pygments_lexer": "ipython3",
   "version": "3.8.7"
  },
  "toc": {
   "base_numbering": 1,
   "nav_menu": [],
   "number_sections": true,
   "sideBar": true,
   "skip_h1_title": false,
   "title_cell": "Table of Contents",
   "title_sidebar": "Contents",
   "toc_cell": false,
   "toc_position": [],
   "toc_section_display": true,
   "toc_window_display": false
  }
 },
 "nbformat": 4,
 "nbformat_minor": 5
}
