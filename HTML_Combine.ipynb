{
 "cells": [
  {
   "cell_type": "code",
   "execution_count": 2,
   "id": "02885179",
   "metadata": {},
   "outputs": [
    {
     "name": "stdout",
     "output_type": "stream",
     "text": [
      "The current directory is: \n",
      "/Users/courtneysteichen/Documents/CSE6040/Homework\n"
     ]
    }
   ],
   "source": [
    "from bs4 import BeautifulSoup\n",
    "import os\n",
    "\n",
    "def merge_html_files(input_folder, output_file):\n",
    "    # Create an empty BeautifulSoup object\n",
    "    merged_html = BeautifulSoup(\"\", \"html.parser\")\n",
    "\n",
    "    # Loop through all HTML files in the input folder\n",
    "    for filename in os.listdir(input_folder):\n",
    "        if filename.endswith(\".html\"):\n",
    "            file_path = os.path.join(input_folder, filename)\n",
    "\n",
    "            # Read the content of the HTML file\n",
    "            with open(file_path, 'r', encoding='utf-8') as file:\n",
    "                html_content = file.read()\n",
    "\n",
    "            # Parse the HTML content and append it to the merged_html object\n",
    "            soup = BeautifulSoup(html_content, \"html.parser\")\n",
    "            merged_html.append(soup)\n",
    "\n",
    "    # Write the merged HTML content to the output file\n",
    "    with open(output_file, 'w', encoding='utf-8') as output:\n",
    "        output.write(str(merged_html))\n",
    "\n",
    "if __name__ == \"__main__\":\n",
    "    print(\"The current directory is: \")\n",
    "    print(os.getcwd())\n",
    "    input_folder = \"HTML\"  # Change this to the path of your input folder, must be in same directory as notebook\n",
    "    output_file = \"Merged_Homework_Solutions.html\"  # Change this to the desired output file name\n",
    "\n",
    "    merge_html_files(input_folder, output_file)"
   ]
  },
  {
   "cell_type": "code",
   "execution_count": null,
   "id": "342edbb1",
   "metadata": {},
   "outputs": [],
   "source": []
  }
 ],
 "metadata": {
  "kernelspec": {
   "display_name": "Python 3 (ipykernel)",
   "language": "python",
   "name": "python3"
  },
  "language_info": {
   "codemirror_mode": {
    "name": "ipython",
    "version": 3
   },
   "file_extension": ".py",
   "mimetype": "text/x-python",
   "name": "python",
   "nbconvert_exporter": "python",
   "pygments_lexer": "ipython3",
   "version": "3.11.5"
  }
 },
 "nbformat": 4,
 "nbformat_minor": 5
}
